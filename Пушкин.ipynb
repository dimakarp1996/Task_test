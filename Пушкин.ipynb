{
 "cells": [
  {
   "cell_type": "code",
   "execution_count": 1,
   "metadata": {},
   "outputs": [],
   "source": [
    "#import gensim.function\n",
    "\n",
    "text=open('Стихи.txt','r').readlines()\n",
    "text = [i for i in text if i != '' and 'Стихотворения' not in i]"
   ]
  },
  {
   "cell_type": "code",
   "execution_count": 2,
   "metadata": {},
   "outputs": [],
   "source": [
    "text = [i.strip() for i in text]"
   ]
  },
  {
   "cell_type": "code",
   "execution_count": 3,
   "metadata": {},
   "outputs": [],
   "source": [
    "text = [i for i in text if i != '' and 'Стихотворения' not in i]\n",
    "text = text[:len(text)-243]\n",
    "data=''.join(text)"
   ]
  },
  {
   "cell_type": "code",
   "execution_count": 4,
   "metadata": {},
   "outputs": [
    {
     "data": {
      "text/plain": [
       "603368"
      ]
     },
     "execution_count": 4,
     "metadata": {},
     "output_type": "execute_result"
    }
   ],
   "source": [
    "len(data)"
   ]
  },
  {
   "cell_type": "code",
   "execution_count": 5,
   "metadata": {},
   "outputs": [],
   "source": [
    "data = data.replace('\\xa0',' ')\n",
    "\n",
    "for number in '123456789':\n",
    "    data=data.replace(number,'0')\n",
    "for english_letter in 'ABCDEFGHIJKLMNOPQRSTUVWXYZ':\n",
    "    data=data.replace(english_letter, '')\n",
    "for english_letter in 'abcdefghijklmnopqrstuvwzyz':\n",
    "    data=data.replace(english_letter, '')    "
   ]
  },
  {
   "cell_type": "code",
   "execution_count": 6,
   "metadata": {},
   "outputs": [],
   "source": [
    "b=set(data)\n",
    "c=dict()\n",
    "for symbol in b:\n",
    "    c[symbol] = data.count(symbol)\n",
    "import operator\n",
    "c1 = sorted(c.items(), key=operator.itemgetter(1))"
   ]
  },
  {
   "cell_type": "code",
   "execution_count": 7,
   "metadata": {},
   "outputs": [
    {
     "data": {
      "text/plain": [
       "[('„', 1),\n",
       " ('Й', 2),\n",
       " ('_', 7),\n",
       " ('Щ', 7),\n",
       " ('/', 11),\n",
       " ('Ю', 30),\n",
       " ('x', 37),\n",
       " ('Ц', 98),\n",
       " ('ъ', 101),\n",
       " ('Ш', 103),\n",
       " (\"'\", 128),\n",
       " ('(', 137),\n",
       " (')', 138),\n",
       " ('Э', 145),\n",
       " ('Ж', 160),\n",
       " ('«', 169),\n",
       " ('»', 169),\n",
       " ('#', 186),\n",
       " ('&', 186),\n",
       " ('Ф', 200),\n",
       " ('Х', 263),\n",
       " ('ё', 299),\n",
       " ('Е', 345),\n",
       " ('э', 380),\n",
       " ('-', 426),\n",
       " ('ф', 434),\n",
       " (']', 449),\n",
       " ('[', 450),\n",
       " ('Р', 474),\n",
       " ('Ч', 489),\n",
       " ('Л', 493),\n",
       " ('>', 504),\n",
       " ('<', 506),\n",
       " ('Я', 577),\n",
       " ('У', 584),\n",
       " ('\"', 622),\n",
       " ('А', 624),\n",
       " ('Г', 680),\n",
       " ('З', 700),\n",
       " ('Б', 711),\n",
       " ('—', 715),\n",
       " ('*', 769),\n",
       " ('Д', 879),\n",
       " ('0', 896),\n",
       " ('–', 904),\n",
       " ('…', 920),\n",
       " ('М', 1052),\n",
       " ('?', 1139),\n",
       " (':', 1195),\n",
       " ('щ', 1214),\n",
       " ('О', 1353),\n",
       " ('Т', 1418),\n",
       " ('К', 1564),\n",
       " ('!', 1593),\n",
       " (';', 1750),\n",
       " ('С', 1976),\n",
       " ('П', 2220),\n",
       " ('ц', 2230),\n",
       " ('В', 2456),\n",
       " ('Н', 2494),\n",
       " ('И', 2956),\n",
       " ('ш', 4033),\n",
       " ('ю', 4386),\n",
       " ('х', 4900),\n",
       " ('.', 5011),\n",
       " ('ж', 5121),\n",
       " ('ч', 5844),\n",
       " ('з', 7547),\n",
       " ('г', 8269),\n",
       " ('б', 8544),\n",
       " ('я', 9137),\n",
       " ('ь', 10095),\n",
       " ('п', 10670),\n",
       " ('й', 10745),\n",
       " ('ы', 12039),\n",
       " ('к', 12701),\n",
       " (',', 13553),\n",
       " ('у', 14636),\n",
       " ('д', 15569),\n",
       " ('м', 15602),\n",
       " ('в', 20774),\n",
       " ('р', 22218),\n",
       " ('л', 22717),\n",
       " ('с', 23608),\n",
       " ('т', 25961),\n",
       " ('и', 28058),\n",
       " ('н', 30526),\n",
       " ('а', 34164),\n",
       " ('е', 40337),\n",
       " ('о', 45683),\n",
       " (' ', 79826)]"
      ]
     },
     "execution_count": 7,
     "metadata": {},
     "output_type": "execute_result"
    }
   ],
   "source": [
    "c1"
   ]
  },
  {
   "cell_type": "code",
   "execution_count": 8,
   "metadata": {},
   "outputs": [
    {
     "data": {
      "text/plain": [
       "'<мз;И[-„бтюМй)О–,г\"(н\\'еК«цсы…БФ/xвлЧ#_оПХхУЗШЦипэЩЛаЮшВ?яС А&ьфГЖ:Э>*.р]Е0РЯ»учДТщ—НкжЙёъд!'"
      ]
     },
     "execution_count": 8,
     "metadata": {},
     "output_type": "execute_result"
    }
   ],
   "source": [
    "Alphabet =''.join(c.keys())\n",
    "Alphabet\n",
    "#We don't delete any of the chars as now"
   ]
  },
  {
   "cell_type": "code",
   "execution_count": 9,
   "metadata": {},
   "outputs": [],
   "source": [
    "return_first=True\n",
    "def string_vectorizer(string, alphabet=Alphabet):\n",
    "    vector = [[0 if char != letter else 1 for char in Alphabet] \n",
    "                  for letter in string]\n",
    "    return vector\n",
    "def vector_stringizer(vector_bag, alphabet = Alphabet):\n",
    "    answ=''\n",
    "    if return_first:\n",
    "        for i in range(vector_bag.shape[0]):\n",
    "            answ+=Alphabet[vector_bag[i,:].index(max(vector_bag))]\n",
    "    else:\n",
    "        for i in range(vector_bag.shape[0]):\n",
    "            index = vector_bag[i:,].argsort()[-2:][0]\n",
    "            answ+=Alphabet[vector_bag[i,:].index(max(vector_bag))]\n",
    "    return answ\n",
    "data_onehot = string_vectorizer(data)"
   ]
  },
  {
   "cell_type": "code",
   "execution_count": null,
   "metadata": {},
   "outputs": [],
   "source": []
  },
  {
   "cell_type": "code",
   "execution_count": 10,
   "metadata": {},
   "outputs": [
    {
     "name": "stderr",
     "output_type": "stream",
     "text": [
      "C:\\Users\\DK\\Anaconda3.1\\lib\\site-packages\\h5py\\__init__.py:36: FutureWarning: Conversion of the second argument of issubdtype from `float` to `np.floating` is deprecated. In future, it will be treated as `np.float64 == np.dtype(float).type`.\n",
      "  from ._conv import register_converters as _register_converters\n",
      "Using TensorFlow backend.\n"
     ]
    }
   ],
   "source": [
    "import keras\n",
    "from sklearn.model_selection import train_test_split\n",
    "import numpy as np\n",
    "from keras.models import Sequential\n",
    "from keras.layers import Dense\n",
    "from keras.layers import LSTM,Flatten\n",
    "from sklearn.preprocessing import MinMaxScaler\n",
    "from sklearn.metrics import mean_squared_error\n",
    "#from tqdm import tqdm\n",
    "from scipy import sparse"
   ]
  },
  {
   "cell_type": "code",
   "execution_count": 11,
   "metadata": {},
   "outputs": [],
   "source": [
    "window_len = 5\n",
    "X_total,Y_total=[],[]\n",
    "i=1000\n",
    "X_total.append(data_onehot[i-window_len:i])\n",
    "Y_total.append(data_onehot[i])"
   ]
  },
  {
   "cell_type": "code",
   "execution_count": 13,
   "metadata": {},
   "outputs": [],
   "source": [
    "def make_dataset(data_onehot):\n",
    "    X_total,Y_total=[],[]\n",
    "    for i in range(window_len, len(data_onehot)):\n",
    "        X_total.append(data_onehot[i-window_len:i])\n",
    "        Y_total.append(data_onehot[i])\n",
    "    return np.array(X_total), np.array(Y_total)\n",
    "X_total, Y_total=make_dataset(data_onehot)"
   ]
  },
  {
   "cell_type": "code",
   "execution_count": 14,
   "metadata": {},
   "outputs": [
    {
     "data": {
      "text/plain": [
       "(595987, 5, 91)"
      ]
     },
     "execution_count": 14,
     "metadata": {},
     "output_type": "execute_result"
    }
   ],
   "source": [
    "X_total.shape"
   ]
  },
  {
   "cell_type": "code",
   "execution_count": 15,
   "metadata": {},
   "outputs": [],
   "source": [
    "X_train,X_test,Y_train,Y_test = train_test_split(X_total, Y_total, test_size=0.15, random_state = 1)\n",
    "del X_total\n",
    "del  Y_total"
   ]
  },
  {
   "cell_type": "code",
   "execution_count": 16,
   "metadata": {},
   "outputs": [
    {
     "data": {
      "text/plain": [
       "(89399, 5, 91)"
      ]
     },
     "execution_count": 16,
     "metadata": {},
     "output_type": "execute_result"
    }
   ],
   "source": [
    "X_test.shape"
   ]
  },
  {
   "cell_type": "code",
   "execution_count": null,
   "metadata": {},
   "outputs": [],
   "source": [
    "model = Sequential()\n",
    "model.add(LSTM(100, input_shape=(window_len, len(Alphabet)), return_sequences=True))\n",
    "model.add(Flatten())\n",
    "model.add(Dense(len(Alphabet)))\n",
    "model.compile(loss='binary_crossentropy', optimizer='adam')\n",
    "model.summary()\n",
    "model.fit(X_train,Y_train, epochs=2,validation_data = (X_test, Y_test), batch_size=10, verbose=1)"
   ]
  },
  {
   "cell_type": "code",
   "execution_count": null,
   "metadata": {},
   "outputs": [
    {
     "name": "stdout",
     "output_type": "stream",
     "text": [
      "_________________________________________________________________\n",
      "Layer (type)                 Output Shape              Param #   \n",
      "=================================================================\n",
      "lstm_3 (LSTM)                (None, 5, 100)            76800     \n",
      "_________________________________________________________________\n",
      "flatten_3 (Flatten)          (None, 500)               0         \n",
      "_________________________________________________________________\n",
      "dense_3 (Dense)              (None, 91)                45591     \n",
      "=================================================================\n",
      "Total params: 122,391\n",
      "Trainable params: 122,391\n",
      "Non-trainable params: 0\n",
      "_________________________________________________________________\n",
      "Train on 506588 samples, validate on 89399 samples\n",
      "Epoch 1/2\n",
      "211980/506588 [===========>..................] - ETA: 2:16 - loss: 0.0756"
     ]
    }
   ],
   "source": [
    "import _pickle\n",
    "_pickle.dump(model, open('Pushkin.pkl','wb'))"
   ]
  },
  {
   "cell_type": "code",
   "execution_count": null,
   "metadata": {},
   "outputs": [],
   "source": [
    "text = 'люблю '\n",
    "from copy import deepcopy\n",
    "text1 = deepcopy(text)"
   ]
  },
  {
   "cell_type": "code",
   "execution_count": null,
   "metadata": {},
   "outputs": [],
   "source": [
    "for i in range(1000):\n",
    "    predicted_vector = model.predict(string_vectorizer(text1))\n",
    "    predicted_char = vector_stringizer(predicted_vector)\n",
    "    text = text+predicted_char\n",
    "    text1 = text1[1:]+predicted_char\n",
    "    if i%5==0:\n",
    "        print('Predicted '+str(i)+' letters ')\n",
    "print(text)    "
   ]
  },
  {
   "cell_type": "code",
   "execution_count": null,
   "metadata": {},
   "outputs": [],
   "source": []
  },
  {
   "cell_type": "code",
   "execution_count": null,
   "metadata": {},
   "outputs": [],
   "source": []
  },
  {
   "cell_type": "code",
   "execution_count": null,
   "metadata": {},
   "outputs": [],
   "source": []
  },
  {
   "cell_type": "code",
   "execution_count": null,
   "metadata": {},
   "outputs": [],
   "source": []
  }
 ],
 "metadata": {
  "kernelspec": {
   "display_name": "Python 3",
   "language": "python",
   "name": "python3"
  },
  "language_info": {
   "codemirror_mode": {
    "name": "ipython",
    "version": 3
   },
   "file_extension": ".py",
   "mimetype": "text/x-python",
   "name": "python",
   "nbconvert_exporter": "python",
   "pygments_lexer": "ipython3",
   "version": "3.6.1"
  }
 },
 "nbformat": 4,
 "nbformat_minor": 2
}
