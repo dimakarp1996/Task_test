{
 "cells": [
  {
   "cell_type": "code",
   "execution_count": 1,
   "metadata": {},
   "outputs": [],
   "source": [
    "#import gensim.function\n",
    "\n",
    "text=open('Стихи.txt','r').readlines()\n",
    "text = [i for i in text if i != '' and 'Стихотворения' not in i]"
   ]
  },
  {
   "cell_type": "code",
   "execution_count": 2,
   "metadata": {},
   "outputs": [],
   "source": [
    "text = [i.strip() for i in text]"
   ]
  },
  {
   "cell_type": "code",
   "execution_count": 3,
   "metadata": {},
   "outputs": [],
   "source": [
    "text = [i for i in text if i != '' and 'Стихотворения' not in i]\n",
    "text = text[:len(text)-243]\n",
    "data=''.join(text)"
   ]
  },
  {
   "cell_type": "code",
   "execution_count": 4,
   "metadata": {},
   "outputs": [
    {
     "data": {
      "text/plain": [
       "603368"
      ]
     },
     "execution_count": 4,
     "metadata": {},
     "output_type": "execute_result"
    }
   ],
   "source": [
    "len(data)"
   ]
  },
  {
   "cell_type": "code",
   "execution_count": 5,
   "metadata": {},
   "outputs": [],
   "source": [
    "data = data.replace('\\xa0',' ')\n",
    "\n",
    "for number in '123456789':\n",
    "    data=data.replace(number,'0')\n",
    "for english_letter in 'ABCDEFGHIJKLMNOPQRSTUVWXYZ':\n",
    "    data=data.replace(english_letter, '')\n",
    "for english_letter in 'abcdefghijklmnopqrstuvwzyz':\n",
    "    data=data.replace(english_letter, '')    "
   ]
  },
  {
   "cell_type": "code",
   "execution_count": 6,
   "metadata": {},
   "outputs": [],
   "source": [
    "b=set(data)\n",
    "c=dict()\n",
    "for symbol in b:\n",
    "    c[symbol] = data.count(symbol)\n",
    "import operator\n",
    "c1 = sorted(c.items(), key=operator.itemgetter(1))"
   ]
  },
  {
   "cell_type": "code",
   "execution_count": null,
   "metadata": {},
   "outputs": [],
   "source": []
  },
  {
   "cell_type": "code",
   "execution_count": 8,
   "metadata": {},
   "outputs": [
    {
     "data": {
      "text/plain": [
       "'<мз;И[-„бтюМй)О–,г\"(н\\'еК«цсы…БФ/xвлЧ#_оПХхУЗШЦипэЩЛаЮшВ?яС А&ьфГЖ:Э>*.р]Е0РЯ»учДТщ—НкжЙёъд!'"
      ]
     },
     "execution_count": 8,
     "metadata": {},
     "output_type": "execute_result"
    }
   ],
   "source": [
    "Alphabet =''.join(c.keys())\n",
    "Alphabet\n",
    "#We don't delete any of the chars as now"
   ]
  },
  {
   "cell_type": "code",
   "execution_count": 66,
   "metadata": {},
   "outputs": [],
   "source": [
    "return_first=True\n",
    "def string_vectorizer(string, alphabet=Alphabet):\n",
    "    vector = [[0 if char != letter else 1 for char in Alphabet] \n",
    "                  for letter in string]\n",
    "    return vector\n",
    "def vector_stringizer(vector, alphabet = Alphabet):\n",
    "    answ=''\n",
    "    if return_first:\n",
    "        index = vector.argsort()[-1]\n",
    "        answ+=Alphabet[index]\n",
    "    else:\n",
    "        index = vector.argsort()[-2]\n",
    "        answ+=Alphabet[index]\n",
    "    return answ"
   ]
  },
  {
   "cell_type": "code",
   "execution_count": 34,
   "metadata": {},
   "outputs": [],
   "source": [
    "\n",
    "data_onehot = string_vectorizer(data)"
   ]
  },
  {
   "cell_type": "code",
   "execution_count": null,
   "metadata": {},
   "outputs": [],
   "source": []
  },
  {
   "cell_type": "code",
   "execution_count": 10,
   "metadata": {},
   "outputs": [
    {
     "name": "stderr",
     "output_type": "stream",
     "text": [
      "C:\\Users\\DK\\Anaconda3.1\\lib\\site-packages\\h5py\\__init__.py:36: FutureWarning: Conversion of the second argument of issubdtype from `float` to `np.floating` is deprecated. In future, it will be treated as `np.float64 == np.dtype(float).type`.\n",
      "  from ._conv import register_converters as _register_converters\n",
      "Using TensorFlow backend.\n"
     ]
    }
   ],
   "source": [
    "import keras\n",
    "from sklearn.model_selection import train_test_split\n",
    "import numpy as np\n",
    "from keras.models import Sequential\n",
    "from keras.layers import Dense\n",
    "from keras.layers import LSTM,Flatten\n",
    "from sklearn.preprocessing import MinMaxScaler\n",
    "from sklearn.metrics import mean_squared_error\n",
    "#from tqdm import tqdm\n",
    "from scipy import sparse"
   ]
  },
  {
   "cell_type": "code",
   "execution_count": 77,
   "metadata": {},
   "outputs": [],
   "source": [
    "window_len = 15\n",
    "X_total,Y_total=[],[]\n",
    "i=1000\n",
    "X_total.append(data_onehot[i-window_len:i])\n",
    "Y_total.append(data_onehot[i])"
   ]
  },
  {
   "cell_type": "code",
   "execution_count": null,
   "metadata": {},
   "outputs": [],
   "source": [
    "def make_dataset(data_onehot):\n",
    "    X_total,Y_total=[],[]\n",
    "    for i in range(window_len, len(data_onehot)):\n",
    "        X_total.append(data_onehot[i-window_len:i])\n",
    "        Y_total.append(data_onehot[i])\n",
    "    return np.array(X_total), np.array(Y_total)\n",
    "X_total, Y_total=make_dataset(data_onehot)"
   ]
  },
  {
   "cell_type": "code",
   "execution_count": null,
   "metadata": {},
   "outputs": [],
   "source": [
    "X_total.shape"
   ]
  },
  {
   "cell_type": "code",
   "execution_count": null,
   "metadata": {},
   "outputs": [],
   "source": [
    "X_train,X_test,Y_train,Y_test = train_test_split(X_total, Y_total, test_size=0.15, random_state = 1)\n",
    "del X_total\n",
    "del  Y_total"
   ]
  },
  {
   "cell_type": "code",
   "execution_count": null,
   "metadata": {},
   "outputs": [],
   "source": [
    "from  keras.callbacks import EarlyStopping\n",
    "callback = keras.callbacks.EarlyStopping(monitor='val_loss', min_delta=0, patience=3, verbose=0, mode='min')"
   ]
  },
  {
   "cell_type": "code",
   "execution_count": null,
   "metadata": {},
   "outputs": [],
   "source": [
    "model = Sequential()\n",
    "model.add(LSTM(100, input_shape=(window_len, len(Alphabet)), return_sequences=True))\n",
    "model.add(Flatten())\n",
    "model.add(Dense(len(Alphabet),activation='softmax'))\n",
    "model.compile(loss='binary_crossentropy', optimizer='adam')\n",
    "model.summary()\n",
    "model.fit(X_train,Y_train, epochs=20,validation_data = (X_test, Y_test), batch_size=10, verbose=1,callbacks=[callback])"
   ]
  },
  {
   "cell_type": "code",
   "execution_count": null,
   "metadata": {},
   "outputs": [],
   "source": [
    "model.save('Pushkin1.h5')  # creates a HDF5 file 'my_model.h5'\n",
    "  # deletes the existing model\n",
    "\n",
    "# returns a compiled model\n",
    "# identical to the previous one\n",
    "model = load_model('Pushkin1.h5')"
   ]
  },
  {
   "cell_type": "code",
   "execution_count": null,
   "metadata": {},
   "outputs": [],
   "source": [
    "text = 'люблю'\n",
    "from copy import deepcopy\n",
    "text1 = deepcopy(text)"
   ]
  },
  {
   "cell_type": "code",
   "execution_count": null,
   "metadata": {},
   "outputs": [],
   "source": [
    "for i in range(100):\n",
    "    text_array = np.array(string_vectorizer(text1)).reshape(1,5,91)\n",
    "    predicted_vector = model.predict(text_array)\n",
    "    predicted_char = vector_stringizer(predicted_vector[0])\n",
    "    text = text+predicted_char\n",
    "    text1 = text1[1:]+predicted_char\n",
    "    if i%20==0:\n",
    "        print('Predicted '+str(i)+' letters ')\n",
    "print(text)    "
   ]
  },
  {
   "cell_type": "code",
   "execution_count": 36,
   "metadata": {},
   "outputs": [
    {
     "data": {
      "text/plain": [
       "array([[1.47936182e-04, 4.98121791e-03, 3.85143416e-04, 1.96145177e-02,\n",
       "        1.39515493e-02, 3.09216848e-04, 3.50131537e-04, 1.37701591e-06,\n",
       "        1.55673651e-02, 5.97707517e-02, 8.38512182e-03, 2.15913332e-03,\n",
       "        7.10349390e-03, 1.98123016e-04, 4.03744052e-04, 1.93269385e-04,\n",
       "        1.19737759e-01, 1.55022182e-03, 1.92365947e-03, 2.29422785e-05,\n",
       "        2.14803889e-01, 2.85159217e-06, 2.21958687e-03, 3.15458456e-04,\n",
       "        2.89169420e-05, 1.51566486e-03, 6.47508428e-02, 1.14221744e-04,\n",
       "        1.30501138e-02, 4.06766339e-04, 1.99629976e-05, 3.74188926e-06,\n",
       "        4.40514583e-07, 3.45098297e-03, 2.81880551e-04, 4.04712075e-04,\n",
       "        6.47312675e-07, 6.63724222e-06, 2.56248197e-04, 2.84246285e-03,\n",
       "        3.72227332e-05, 2.26164889e-03, 1.82837236e-03, 3.77609249e-04,\n",
       "        6.10312745e-05, 8.87833357e-06, 7.80376024e-04, 1.71134539e-04,\n",
       "        5.83529982e-06, 5.66891549e-06, 3.97329975e-04, 4.81204806e-05,\n",
       "        9.49052890e-07, 1.77186925e-03, 1.02234236e-03, 1.24740461e-02,\n",
       "        5.04560303e-04, 2.92563019e-03, 2.92911172e-01, 8.34599632e-05,\n",
       "        3.22224219e-06, 1.53158999e-05, 9.68233326e-06, 8.90458236e-04,\n",
       "        2.96986891e-05, 8.35510623e-03, 1.95925677e-05, 1.18422613e-04,\n",
       "        1.81610430e-05, 5.74529916e-02, 2.01708062e-05, 4.96799825e-04,\n",
       "        1.12786853e-04, 7.31782893e-06, 5.31042693e-04, 5.25076641e-04,\n",
       "        2.64471537e-03, 4.74535736e-05, 5.56823378e-03, 2.70651421e-03,\n",
       "        1.04444916e-03, 1.47729646e-02, 8.41212477e-06, 1.03654515e-03,\n",
       "        4.12072707e-03, 1.90848752e-03, 5.57791736e-07, 1.88584727e-05,\n",
       "        1.08912229e-06, 4.47098957e-03, 1.41339451e-02]], dtype=float32)"
      ]
     },
     "execution_count": 36,
     "metadata": {},
     "output_type": "execute_result"
    }
   ],
   "source": []
  },
  {
   "cell_type": "code",
   "execution_count": null,
   "metadata": {},
   "outputs": [],
   "source": []
  },
  {
   "cell_type": "code",
   "execution_count": 60,
   "metadata": {},
   "outputs": [],
   "source": []
  },
  {
   "cell_type": "code",
   "execution_count": 65,
   "metadata": {},
   "outputs": [
    {
     "data": {
      "text/plain": [
       "22"
      ]
     },
     "execution_count": 65,
     "metadata": {},
     "output_type": "execute_result"
    }
   ],
   "source": []
  },
  {
   "cell_type": "code",
   "execution_count": 69,
   "metadata": {},
   "outputs": [
    {
     "data": {
      "text/plain": [
       "array([[4.68948383e-06, 1.32726545e-05, 1.82559847e-06, 5.59600792e-08,\n",
       "        2.20814101e-07, 7.16160597e-09, 2.55149729e-07, 4.22420143e-08,\n",
       "        4.58443792e-05, 6.15662866e-05, 9.85079751e-05, 1.48894244e-07,\n",
       "        3.93421760e-06, 3.15374322e-08, 3.22220359e-07, 5.34448681e-08,\n",
       "        7.25990731e-07, 4.61424497e-06, 5.46918208e-08, 8.29758804e-08,\n",
       "        2.10189231e-04, 1.31498927e-08, 5.75646199e-02, 2.25692972e-07,\n",
       "        6.55047172e-09, 2.34680101e-06, 1.94769200e-06, 4.35431662e-04,\n",
       "        1.94357000e-07, 1.25667754e-07, 6.80677985e-08, 2.21273226e-07,\n",
       "        4.01492422e-08, 1.18674041e-04, 4.41178243e-04, 1.91478033e-08,\n",
       "        1.08824838e-09, 2.18117748e-07, 1.45933572e-02, 4.10452827e-07,\n",
       "        4.09753333e-08, 6.03189983e-06, 1.65799037e-07, 3.21344977e-08,\n",
       "        1.38635405e-08, 3.26991163e-08, 1.05397692e-02, 4.81374354e-06,\n",
       "        1.13914083e-07, 5.94952780e-08, 7.33801713e-08, 2.23718937e-02,\n",
       "        7.89767469e-08, 1.57684171e-05, 1.66292452e-07, 1.64414985e-07,\n",
       "        1.73066126e-03, 2.42689453e-07, 2.47361777e-06, 1.01021897e-06,\n",
       "        1.36948142e-08, 6.17426736e-07, 2.46855197e-05, 1.66164995e-07,\n",
       "        2.22948728e-07, 9.67388658e-08, 3.64080144e-08, 4.43160530e-08,\n",
       "        3.30470084e-06, 2.27512464e-06, 5.81200984e-05, 7.98573069e-07,\n",
       "        8.40962926e-08, 1.15950388e-06, 5.62022535e-08, 3.01788745e-08,\n",
       "        1.20351444e-07, 8.91570628e-01, 1.19641777e-06, 7.47101012e-08,\n",
       "        1.75898990e-07, 5.38573559e-08, 9.44633172e-08, 9.87590738e-08,\n",
       "        3.37912461e-05, 1.47792907e-05, 1.46526524e-08, 5.69893473e-06,\n",
       "        2.65521294e-07, 1.85890849e-06, 1.92386366e-07]], dtype=float32)"
      ]
     },
     "execution_count": 69,
     "metadata": {},
     "output_type": "execute_result"
    }
   ],
   "source": []
  },
  {
   "cell_type": "code",
   "execution_count": 70,
   "metadata": {},
   "outputs": [
    {
     "data": {
      "text/plain": [
       "'у'"
      ]
     },
     "execution_count": 70,
     "metadata": {},
     "output_type": "execute_result"
    }
   ],
   "source": []
  },
  {
   "cell_type": "code",
   "execution_count": 72,
   "metadata": {},
   "outputs": [
    {
     "data": {
      "text/plain": [
       "'у'"
      ]
     },
     "execution_count": 72,
     "metadata": {},
     "output_type": "execute_result"
    }
   ],
   "source": []
  },
  {
   "cell_type": "code",
   "execution_count": null,
   "metadata": {},
   "outputs": [],
   "source": []
  }
 ],
 "metadata": {
  "kernelspec": {
   "display_name": "Python 3",
   "language": "python",
   "name": "python3"
  },
  "language_info": {
   "codemirror_mode": {
    "name": "ipython",
    "version": 3
   },
   "file_extension": ".py",
   "mimetype": "text/x-python",
   "name": "python",
   "nbconvert_exporter": "python",
   "pygments_lexer": "ipython3",
   "version": "3.6.1"
  }
 },
 "nbformat": 4,
 "nbformat_minor": 2
}
