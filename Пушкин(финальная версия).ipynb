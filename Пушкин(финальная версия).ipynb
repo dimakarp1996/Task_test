{
 "cells": [
  {
   "cell_type": "code",
   "execution_count": 66,
   "metadata": {},
   "outputs": [],
   "source": [
    "import keras\n",
    "from  keras.callbacks import EarlyStopping\n",
    "from copy import deepcopy\n",
    "import numpy as np\n",
    "from numpy import random\n",
    "Alphabet=\"ёцыТХ)xЭ[ф0бЦЛ!УР,иМдОКИж>хълэ?\"+'\"'+\"Щ–Ф#_ря*ЯюоЮ м-'(щсзйЗЬ/—Ш»{шаЕнгЫПСДБ<АЧ:Й];у}в…чп.«&ГНкЖеьтВ„\"\n",
    "def string_vectorizer(string, alphabet=Alphabet):\n",
    "    vector = [[0 if char != letter else 1 for char in Alphabet] \n",
    "                  for letter in string]\n",
    "    return vector\n",
    "def vector_stringizer(vector, alphabet = Alphabet,return_first=True):\n",
    "    answ=''\n",
    "    if return_first:\n",
    "        index = vector.argsort()[-1]\n",
    "        answ+=Alphabet[index]\n",
    "    else:\n",
    "        index = vector.argsort()[-2]\n",
    "        answ+=Alphabet[index]\n",
    "    return answ\n",
    "def batch_generator(train_set):\n",
    "    global g,g0\n",
    "    final_data=None\n",
    "    final_label=None\n",
    "    counter=0\n",
    "    this_count=0\n",
    "    i=0\n",
    "    while True:\n",
    "        data = data_onehot[train_set[i]-window_len:train_set[i],:]\n",
    "        #print(data.shape)\n",
    "        label = data_onehot[train_set[i],:]\n",
    "        if counter==0:\n",
    "            final_data=data.reshape(1,data.shape[0],data.shape[1])\n",
    "            final_label=label.reshape(1,label.shape[0])\n",
    "        else:\n",
    "            data=data.reshape((1,data.shape[0],data.shape[1]))\n",
    "            label=label.reshape((1,label.shape[0]))\n",
    "            try:\n",
    "                final_data=np.concatenate([final_data,data],axis=0)\n",
    "            except:\n",
    "                print(i)\n",
    "                raise Exception(str(i)+' '+str(final_data.shape)+' '+str(data.shape))\n",
    "            try:                                \n",
    "                final_label=np.concatenate([final_label,label],axis=0)\n",
    "            except:\n",
    "                raise Exception(str(final_label.shape)+' '+str(label.shape))    \n",
    "\n",
    "        counter+=1\n",
    "        i=(i+1)%len(train_set)\n",
    "        if counter==batch_size:\n",
    "            if final_data.shape==(batch_size,window_len,len(Alphabet)) and final_label.shape==(batch_size,len(Alphabet)):\n",
    "                yield (final_data,final_label)\n",
    "                this_count+=1\n",
    "                if this_count%15==0:\n",
    "                    print('completed '+str(i*100/len(train_set))+' percent')\n",
    "            else:\n",
    "                print('ERROR')\n",
    "                print(i)\n",
    "                g=final_data,final_label\n",
    "                raise Exception(str(g[0].shape)+' '+str(g[1].shape))\n",
    "            final_data=None\n",
    "            final_label=None\n",
    "            counter=0\n",
    "def train_model(file='Стихи+Поэмы.txt',batch_size=1500,window_len=35,n_epochs=30,model_name='secondly_trained'):\n",
    "    text=open(file,'r').readlines()\n",
    "    text = [i for i in text if i != '' and 'Стихотворения' not in i]\n",
    "    text = [i.strip() for i in text]\n",
    "    text = text[:len(text)-243]\n",
    "    data=''.join(text)\n",
    "    data = data.replace('\\xa0',' ')\n",
    "\n",
    "    for number in '123456789':\n",
    "        data=data.replace(number,'0')\n",
    "    for english_letter in 'ABCDEFGHIJKLMNOPQRSTUVWXYZ':\n",
    "        data=data.replace(english_letter, '')\n",
    "    for english_letter in 'abcdefghijklmnopqrstuvwzyz':\n",
    "        data=data.replace(english_letter, '')    \n",
    "    b=set(data)\n",
    "    c=dict()\n",
    "    for symbol in b:\n",
    "        c[symbol] = data.count(symbol)\n",
    "    import operator\n",
    "    c1 = sorted(c.items(), key=operator.itemgetter(1))\n",
    "    Alphabet =''.join(c.keys())\n",
    "    data_onehot = string_vectorizer(data)\n",
    "    s=np.arange(window_len, len(data_onehot))\n",
    "    random.seed(333)\n",
    "    train_set = np.random.choice(np.arange(window_len,len(data_onehot)-window_len), int(0.85*(len(data_onehot)-window_len)), replace=False)\n",
    "    test_set=np.array(list(set(np.arange(window_len,len(data_onehot)-window_len))-set(train_set)))\n",
    "    callback = keras.callbacks.EarlyStopping(monitor='val_loss', min_delta=0, patience=3, verbose=0, mode='min')\n",
    "    train_set = train_set[:len(train_set)-(len(train_set)%batch_size)]\n",
    "    test_set = test_set[:len(test_set)-(len(test_set)%batch_size)]\n",
    "    model2 = Sequential()\n",
    "    model2.add(LSTM(120, input_shape=(window_len, len(Alphabet)), return_sequences=True))\n",
    "    model2.add(Flatten())\n",
    "    model2.add(Dropout(0.1))\n",
    "    model2.add(Dense(len(Alphabet),activation='softmax'))\n",
    "    model2.compile(loss='binary_crossentropy', optimizer='adam')\n",
    "    model2.summary()\n",
    "    model2.fit_generator(\n",
    "        batch_generator(train_set), epochs=n_epochs,\n",
    "        steps_per_epoch = len(train_set)//batch_size,\n",
    "        validation_data = batch_generator(test_set),\n",
    "        validation_steps = len(test_set)//batch_size,\n",
    "        verbose=2, callbacks=[callback])\n",
    "    return model2,Alphabet"
   ]
  },
  {
   "cell_type": "code",
   "execution_count": 72,
   "metadata": {},
   "outputs": [],
   "source": [
    "def models_test(use_random=True,use_large=True,text_len=2000,initial_letters=None,load_model=True):\n",
    "    if load_model:\n",
    "        Alphabet=\"ёцыТХ)xЭ[ф0бЦЛ!УР,иМдОКИж>хълэ?\"+'\"'+\"Щ–Ф#_ря*ЯюоЮ м-'(щсзйЗЬ/—Ш»{шаЕнгЫПСДБ<АЧ:Й];у}в…чп.«&ГНкЖеьтВ„\"\n",
    "        model=keras.models.load_model('Pushkin3.h5')\n",
    "    else:\n",
    "        if use_large:\n",
    "            model,Alphabet=train_model('Стихи+Поэмы.txt')\n",
    "        else:\n",
    "            model,Alphabet=train_model('Стихи.txt')\n",
    "    window_len=model.layers[0].input_shape[1]\n",
    "    text=' '*window_len\n",
    "    if initial_letters!=None:\n",
    "        text=initial_letters[:window_len].ljust(window_len,' ')\n",
    "    text1=deepcopy(text)\n",
    "    text2=string_vectorizer(text1,Alphabet)\n",
    "    text3=np.array(text2)\n",
    "    for i in range(text_len):\n",
    "        text_array = np.array(string_vectorizer(text1,Alphabet)).reshape(1,window_len,len(Alphabet))\n",
    "        predicted_vector = model.predict(text_array)\n",
    "        j = random.randint(0,3*window_len)\n",
    "        if j%(2*window_len)!=0 or not use_random:\n",
    "            predicted_char = vector_stringizer(predicted_vector[0],Alphabet, return_first=True)\n",
    "        else:\n",
    "            predicted_char = vector_stringizer(predicted_vector[0],Alphabet, return_first=False)\n",
    "        text = text+predicted_char\n",
    "        text1 = text1[1:]+predicted_char\n",
    "    #if i%20==0:\n",
    "        #print('Predicted '+str(i)+' letters ')\n",
    "    return text"
   ]
  },
  {
   "cell_type": "code",
   "execution_count": 75,
   "metadata": {},
   "outputs": [
    {
     "data": {
      "text/plain": [
       "'Президент России Владимир Путин приводит славы полный страды,И страсть и под ней старины,В сладости волненье страстный старины,И полны молодой и страстной не полный страданье,И страсть и не славость и старина,Старик от старик и страсть,И полны просторочной страстью старины,С полном молодой не старик, и старины столодной,Что друга молодой и страстной не полной,И славо молчаливый стороны,Все принивал страстью столоденье.И возножно пред ним стороны,В поле беседный страсть и просторой,В сердце пред ним старине страстный просторой,И страсть и не пред ней старины,И страсть и не полнил своей подного приводит.Он был в сердце пред нем страстной невольной страстной не полнила,Придет в молчанье старина,Старая смерть на своей страстью сторонь...Что ж тобой только страшно братая страна,Что на сердце пред ним старины,В поле великой страстной приводит.Он в поле сердце страстной просторой,В поле не водом страстью старины,И старик в серебе полести,На поле картины поледной,И в поле беседный своей своей,Под молите пред ней стороны,В сердц'"
      ]
     },
     "execution_count": 75,
     "metadata": {},
     "output_type": "execute_result"
    }
   ],
   "source": [
    "models_test(initial_letters='Президент России Владимир Путин призвал ',use_random=False,text_len=1000)"
   ]
  },
  {
   "cell_type": "code",
   "execution_count": 76,
   "metadata": {},
   "outputs": [
    {
     "data": {
      "text/plain": [
       "'Президент России Владимир Путин приводит славы полный страды,И страсть и под ней старины,В славой и страстной присталился...\"  скажи благословилась,Вольной старине слава поледали,И с нем волненье столодной простой,Под сенью полной страстью стариный старик,Мой старик сердце полести,На другом страстной полной,И страсть и старик отраданье,Как был он невольный страстной,В молчанье славость и старина,Ты пред нем столь полести подорожить молодой.Он голов под мой молодой,Он полны молодой не стал,И страстной не следов на старой,И славость и не приветал.Восторги старина своей прошли,И страсть и постали старины.Вот может быть он не полный,И страсть и не слез от стариной.Все только на свет отвечает:\"\"Не старая страсть и почели,На страха своей полной,Поле волны сторожной страданье,Под молодой полести волна,И как сердце полести поледал,И страсть и не под угром и сладость отрадали.Но не сладал страсть и не примела,И старик в серем собою старины,На трепет в нем стороны страстный старины,И страсти молвил и страстной не слезы старина,И '"
      ]
     },
     "execution_count": 76,
     "metadata": {},
     "output_type": "execute_result"
    }
   ],
   "source": [
    "models_test(initial_letters='Президент России Владимир Путин призвал ',use_random=True,text_len=1000)"
   ]
  },
  {
   "cell_type": "code",
   "execution_count": null,
   "metadata": {},
   "outputs": [],
   "source": []
  }
 ],
 "metadata": {
  "kernelspec": {
   "display_name": "Python 3",
   "language": "python",
   "name": "python3"
  },
  "language_info": {
   "codemirror_mode": {
    "name": "ipython",
    "version": 3
   },
   "file_extension": ".py",
   "mimetype": "text/x-python",
   "name": "python",
   "nbconvert_exporter": "python",
   "pygments_lexer": "ipython3",
   "version": "3.6.1"
  }
 },
 "nbformat": 4,
 "nbformat_minor": 2
}
